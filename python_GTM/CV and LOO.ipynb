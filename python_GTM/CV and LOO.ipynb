{
 "metadata": {
  "name": "",
  "signature": "sha256:6e3c9a5bb1b905b26b6f4b627d3dced14e7eb7c40d2b7562902e31c2d18c3721"
 },
 "nbformat": 3,
 "nbformat_minor": 0,
 "worksheets": [
  {
   "cells": [
    {
     "cell_type": "code",
     "collapsed": false,
     "input": [
      "%matplotlib inline\n",
      "from matplotlib import pyplot as plt\n",
      "import numpy as np\n",
      "from __future__ import division\n",
      "import neuralnetworks as nn\n",
      "\n",
      "def normalize(signal):\n",
      "    means = np.mean(signal, axis=1).reshape((signal.shape[0],1))\n",
      "    std = np.std(signal, axis=1).reshape((signal.shape[0],1))\n",
      "    signal = np.divide(np.subtract(signal,means),std)\n",
      "    return signal\n",
      "\n",
      "data=np.loadtxt('plots/S24/Data/S24LDP3-smoothed.txt')\n",
      "BSR = np.zeros((10,1))\n",
      "\n",
      "for j in range(10):\n",
      "    for k in range(10):\n",
      "        data_features = data[:,1:211]\n",
      "        data_classes = data[:,0:1]\n",
      "\n",
      "        TP=0\n",
      "        TN=0\n",
      "        FP=0\n",
      "        FN=0\n",
      "\n",
      "        for i in range(data_features.shape[0]):\n",
      "            print i\n",
      "            test_data = data_features[i:i+1,:]\n",
      "            test_class = data_classes[i:i+1,:]\n",
      "            train_data = np.delete(data_features, (i), axis=0 )\n",
      "            train_classes = np.delete(data_classes, (i), axis=0 )\n",
      "\n",
      "            nnet = nn.NeuralNetClassifier(210,k+1,2) # 2 inputs, 8 hiddens, 3 outputs\n",
      "            nnet.train(train_data,train_classes,weightPrecision=1.e-8,errorPrecision=1.e-8,nIterations=400)\n",
      "            print \"SCG stopped after\",nnet.getNumberOfIterations(),\"iterations:\",nnet.reason\n",
      "            (classes,Y,Z) = nnet.use(data_features, allOutputs=True)\n",
      "\n",
      "\n",
      "            marker = ['r.','bx']\n",
      "\n",
      "            predTest,probs,Z = nnet.use(test_data,allOutputs=True) \n",
      "            print test_class,' ',predTest\n",
      "\n",
      "\n",
      "\n",
      "            ###########Print Confusion Matrix\n",
      "\n",
      "\n",
      "\n",
      "            if(predTest[0,:]==test_class[0,:]):\n",
      "                if(predTest[0,:]==0):\n",
      "                    TN=TN+1\n",
      "                else:\n",
      "                    TP=TP+1\n",
      "            else:\n",
      "                if(predTest[0,:]==0):\n",
      "                    FN=FN+1\n",
      "                else:\n",
      "                    FP=FP+1\n",
      "\n",
      "        print '\\t Confusion matrix'\n",
      "\n",
      "        print '\\t    predicted labels'\n",
      "        print '\\t \\t 0 \\t 1'\n",
      "\n",
      "        print 'true lables 0   ',TN,'\\t ',FP\n",
      "        print '\\t    1   ',FN,'\\t ',TP\n",
      "\n",
      "        BSR[k,0] = BSR[k,0]+((TP/(TP+FN) + TN/(TN+FP))/2)\n",
      "print BSR*10\n",
      "\n"
     ],
     "language": "python",
     "metadata": {},
     "outputs": [
      {
       "output_type": "stream",
       "stream": "stdout",
       "text": [
        "0\n",
        "SCG stopped after"
       ]
      },
      {
       "output_type": "stream",
       "stream": "stdout",
       "text": [
        " 166 iterations: limit on f Precision\n",
        "[[ 1.]]   [[ 1.]]\n",
        "1\n",
        "SCG stopped after"
       ]
      },
      {
       "output_type": "stream",
       "stream": "stdout",
       "text": [
        " 110 iterations: limit on f Precision\n",
        "[[ 1.]]   [[ 1.]]\n",
        "2\n",
        "SCG stopped after"
       ]
      },
      {
       "output_type": "stream",
       "stream": "stdout",
       "text": [
        " 139 iterations: limit on f Precision\n",
        "[[ 1.]]   [[ 0.]]\n",
        "3\n",
        "SCG stopped after"
       ]
      },
      {
       "output_type": "stream",
       "stream": "stdout",
       "text": [
        " 97 iterations: limit on f Precision\n",
        "[[ 1.]]   [[ 1.]]\n",
        "4\n",
        "SCG stopped after"
       ]
      },
      {
       "output_type": "stream",
       "stream": "stdout",
       "text": [
        " 231 iterations: limit on f Precision\n",
        "[[ 1.]]   [[ 1.]]\n",
        "5\n",
        "SCG stopped after"
       ]
      },
      {
       "output_type": "stream",
       "stream": "stdout",
       "text": [
        " 92 iterations: limit on f Precision\n",
        "[[ 1.]]   [[ 1.]]\n",
        "6\n",
        "SCG stopped after"
       ]
      },
      {
       "output_type": "stream",
       "stream": "stdout",
       "text": [
        " 70 iterations: limit on f Precision\n",
        "[[ 1.]]   [[ 1.]]\n",
        "7\n",
        "SCG stopped after"
       ]
      },
      {
       "output_type": "stream",
       "stream": "stdout",
       "text": [
        " 109 iterations: limit on f Precision\n",
        "[[ 1.]]   [[ 1.]]\n",
        "8\n",
        "SCG stopped after"
       ]
      },
      {
       "output_type": "stream",
       "stream": "stdout",
       "text": [
        " 118 iterations: limit on f Precision\n",
        "[[ 1.]]   [[ 1.]]\n",
        "9\n",
        "SCG stopped after"
       ]
      },
      {
       "output_type": "stream",
       "stream": "stdout",
       "text": [
        " 401 iterations: did not converge\n",
        "[[ 1.]]   [[ 0.]]\n",
        "10\n",
        "SCG stopped after"
       ]
      },
      {
       "output_type": "stream",
       "stream": "stdout",
       "text": [
        " 214 iterations: limit on f Precision\n",
        "[[ 1.]]   [[ 1.]]\n",
        "11\n",
        "SCG stopped after"
       ]
      },
      {
       "output_type": "stream",
       "stream": "stdout",
       "text": [
        " 127 iterations: limit on f Precision\n",
        "[[ 1.]]   [[ 1.]]\n",
        "12\n",
        "SCG stopped after"
       ]
      },
      {
       "output_type": "stream",
       "stream": "stdout",
       "text": [
        " 161 iterations: limit on f Precision\n",
        "[[ 1.]]   [[ 0.]]\n",
        "13\n",
        "SCG stopped after"
       ]
      },
      {
       "output_type": "stream",
       "stream": "stdout",
       "text": [
        " 143 iterations: limit on f Precision\n",
        "[[ 1.]]   [[ 1.]]\n",
        "14\n",
        "SCG stopped after"
       ]
      },
      {
       "output_type": "stream",
       "stream": "stdout",
       "text": [
        " 200 iterations: limit on f Precision\n",
        "[[ 1.]]   [[ 1.]]\n",
        "15\n",
        "SCG stopped after"
       ]
      },
      {
       "output_type": "stream",
       "stream": "stdout",
       "text": [
        " 168 iterations: limit on f Precision\n",
        "[[ 1.]]   [[ 1.]]\n",
        "16\n",
        "SCG stopped after"
       ]
      },
      {
       "output_type": "stream",
       "stream": "stdout",
       "text": [
        " 89 iterations: limit on f Precision\n",
        "[[ 1.]]   [[ 1.]]\n",
        "17\n",
        "SCG stopped after"
       ]
      },
      {
       "output_type": "stream",
       "stream": "stdout",
       "text": [
        " 135 iterations: limit on f Precision\n",
        "[[ 1.]]   [[ 1.]]\n",
        "18\n",
        "SCG stopped after"
       ]
      },
      {
       "output_type": "stream",
       "stream": "stdout",
       "text": [
        " 150 iterations: limit on f Precision\n",
        "[[ 1.]]   [[ 1.]]\n",
        "19\n",
        "SCG stopped after"
       ]
      },
      {
       "output_type": "stream",
       "stream": "stdout",
       "text": [
        " 101 iterations: limit on f Precision\n",
        "[[ 1.]]   [[ 1.]]\n",
        "20\n",
        "SCG stopped after"
       ]
      },
      {
       "output_type": "stream",
       "stream": "stdout",
       "text": [
        " 222 iterations: limit on f Precision\n",
        "[[ 0.]]   [[ 1.]]\n",
        "21\n",
        "SCG stopped after"
       ]
      },
      {
       "output_type": "stream",
       "stream": "stdout",
       "text": [
        " 146 iterations: limit on f Precision\n",
        "[[ 0.]]   [[ 1.]]\n",
        "22\n",
        "SCG stopped after"
       ]
      },
      {
       "output_type": "stream",
       "stream": "stdout",
       "text": [
        " 213 iterations: limit on f Precision\n",
        "[[ 0.]]   [[ 0.]]\n",
        "23\n",
        "SCG stopped after"
       ]
      },
      {
       "output_type": "stream",
       "stream": "stdout",
       "text": [
        " 198 iterations: limit on f Precision\n",
        "[[ 0.]]   [[ 0.]]\n",
        "24\n",
        "SCG stopped after"
       ]
      },
      {
       "output_type": "stream",
       "stream": "stdout",
       "text": [
        " 178 iterations: limit on f Precision\n",
        "[[ 0.]]   [[ 1.]]\n",
        "25\n",
        "SCG stopped after"
       ]
      },
      {
       "output_type": "stream",
       "stream": "stdout",
       "text": [
        " 106 iterations: limit on f Precision\n",
        "[[ 0.]]   [[ 1.]]\n",
        "26\n",
        "SCG stopped after"
       ]
      },
      {
       "output_type": "stream",
       "stream": "stdout",
       "text": [
        " 106 iterations: limit on f Precision\n",
        "[[ 0.]]   [[ 1.]]\n",
        "27\n",
        "SCG stopped after"
       ]
      },
      {
       "output_type": "stream",
       "stream": "stdout",
       "text": [
        " 89 iterations: limit on f Precision\n",
        "[[ 0.]]   [[ 1.]]\n",
        "28\n",
        "SCG stopped after"
       ]
      },
      {
       "output_type": "stream",
       "stream": "stdout",
       "text": [
        " 138 iterations: limit on f Precision\n",
        "[[ 0.]]   [[ 0.]]\n",
        "29\n",
        "SCG stopped after"
       ]
      },
      {
       "output_type": "stream",
       "stream": "stdout",
       "text": [
        " 74 iterations: limit on f Precision\n",
        "[[ 0.]]   [[ 1.]]\n",
        "30\n",
        "SCG stopped after"
       ]
      },
      {
       "output_type": "stream",
       "stream": "stdout",
       "text": [
        " 95 iterations: limit on f Precision\n",
        "[[ 0.]]   [[ 0.]]\n",
        "31\n",
        "SCG stopped after"
       ]
      },
      {
       "output_type": "stream",
       "stream": "stdout",
       "text": [
        " 80 iterations: limit on f Precision\n",
        "[[ 0.]]   [[ 0.]]\n",
        "32\n",
        "SCG stopped after"
       ]
      },
      {
       "output_type": "stream",
       "stream": "stdout",
       "text": [
        " 73 iterations: limit on f Precision\n",
        "[[ 0.]]   [[ 0.]]\n",
        "33\n",
        "SCG stopped after"
       ]
      },
      {
       "output_type": "stream",
       "stream": "stdout",
       "text": [
        " 106 iterations: limit on f Precision\n",
        "[[ 0.]]   [[ 0.]]\n",
        "34\n",
        "SCG stopped after"
       ]
      },
      {
       "output_type": "stream",
       "stream": "stdout",
       "text": [
        " 182 iterations: limit on f Precision\n",
        "[[ 0.]]   [[ 0.]]\n",
        "35\n",
        "SCG stopped after"
       ]
      },
      {
       "output_type": "stream",
       "stream": "stdout",
       "text": [
        " 154 iterations: limit on f Precision\n",
        "[[ 0.]]   [[ 0.]]\n",
        "36\n",
        "SCG stopped after"
       ]
      },
      {
       "output_type": "stream",
       "stream": "stdout",
       "text": [
        " 229 iterations: limit on f Precision\n",
        "[[ 0.]]   [[ 1.]]\n",
        "37\n",
        "SCG stopped after"
       ]
      },
      {
       "output_type": "stream",
       "stream": "stdout",
       "text": [
        " 214 iterations: limit on f Precision\n",
        "[[ 0.]]   [[ 0.]]\n",
        "38\n",
        "SCG stopped after"
       ]
      },
      {
       "output_type": "stream",
       "stream": "stdout",
       "text": [
        " 92 iterations: limit on f Precision\n",
        "[[ 0.]]   [[ 1.]]\n",
        "39\n",
        "SCG stopped after"
       ]
      },
      {
       "output_type": "stream",
       "stream": "stdout",
       "text": [
        " 94 iterations: limit on f Precision\n",
        "[[ 0.]]   [[ 1.]]\n",
        "40\n",
        "SCG stopped after"
       ]
      },
      {
       "output_type": "stream",
       "stream": "stdout",
       "text": [
        " 83 iterations: limit on f Precision\n",
        "[[ 0.]]   [[ 0.]]\n",
        "41\n",
        "SCG stopped after"
       ]
      },
      {
       "output_type": "stream",
       "stream": "stdout",
       "text": [
        " 196 iterations: limit on f Precision\n",
        "[[ 0.]]   [[ 1.]]\n",
        "42\n",
        "SCG stopped after"
       ]
      },
      {
       "output_type": "stream",
       "stream": "stdout",
       "text": [
        " 105 iterations: limit on f Precision\n",
        "[[ 0.]]   [[ 0.]]\n",
        "43\n",
        "SCG stopped after"
       ]
      },
      {
       "output_type": "stream",
       "stream": "stdout",
       "text": [
        " 115 iterations: limit on f Precision\n",
        "[[ 0.]]   [[ 1.]]\n",
        "44\n",
        "SCG stopped after"
       ]
      },
      {
       "output_type": "stream",
       "stream": "stdout",
       "text": [
        " 129 iterations: limit on f Precision\n",
        "[[ 0.]]   [[ 1.]]\n",
        "45\n",
        "SCG stopped after"
       ]
      },
      {
       "output_type": "stream",
       "stream": "stdout",
       "text": [
        " 74 iterations: limit on f Precision\n",
        "[[ 0.]]   [[ 1.]]\n",
        "46\n",
        "SCG stopped after"
       ]
      },
      {
       "output_type": "stream",
       "stream": "stdout",
       "text": [
        " 101 iterations: limit on f Precision\n",
        "[[ 0.]]   [[ 0.]]\n",
        "47\n",
        "SCG stopped after"
       ]
      },
      {
       "output_type": "stream",
       "stream": "stdout",
       "text": [
        " 112 iterations: limit on f Precision\n",
        "[[ 0.]]   [[ 0.]]\n",
        "48\n",
        "SCG stopped after"
       ]
      },
      {
       "output_type": "stream",
       "stream": "stdout",
       "text": [
        " 50 iterations: limit on f Precision\n",
        "[[ 0.]]   [[ 1.]]\n",
        "49\n",
        "SCG stopped after"
       ]
      },
      {
       "output_type": "stream",
       "stream": "stdout",
       "text": [
        " 154 iterations: limit on f Precision\n",
        "[[ 0.]]   [[ 0.]]\n",
        "50\n",
        "SCG stopped after"
       ]
      },
      {
       "output_type": "stream",
       "stream": "stdout",
       "text": [
        " 97 iterations: limit on f Precision\n",
        "[[ 0.]]   [[ 0.]]\n",
        "51\n",
        "SCG stopped after"
       ]
      },
      {
       "output_type": "stream",
       "stream": "stdout",
       "text": [
        " 229 iterations: limit on f Precision\n",
        "[[ 0.]]   [[ 0.]]\n",
        "52\n",
        "SCG stopped after"
       ]
      },
      {
       "output_type": "stream",
       "stream": "stdout",
       "text": [
        " 81 iterations: limit on f Precision\n",
        "[[ 0.]]   [[ 0.]]\n",
        "53\n",
        "SCG stopped after"
       ]
      },
      {
       "output_type": "stream",
       "stream": "stdout",
       "text": [
        " 52 iterations: limit on f Precision\n",
        "[[ 0.]]   [[ 1.]]\n",
        "54\n",
        "SCG stopped after"
       ]
      },
      {
       "output_type": "stream",
       "stream": "stdout",
       "text": [
        " 160 iterations: limit on f Precision\n",
        "[[ 0.]]   [[ 1.]]\n",
        "55\n",
        "SCG stopped after"
       ]
      },
      {
       "output_type": "stream",
       "stream": "stdout",
       "text": [
        " 162 iterations: limit on f Precision\n",
        "[[ 0.]]   [[ 1.]]\n",
        "56\n",
        "SCG stopped after"
       ]
      },
      {
       "output_type": "stream",
       "stream": "stdout",
       "text": [
        " 140 iterations: limit on f Precision\n",
        "[[ 0.]]   [[ 1.]]\n",
        "57\n",
        "SCG stopped after"
       ]
      },
      {
       "output_type": "stream",
       "stream": "stdout",
       "text": [
        " 224 iterations: limit on f Precision\n",
        "[[ 0.]]   [[ 0.]]\n",
        "58\n",
        "SCG stopped after"
       ]
      },
      {
       "output_type": "stream",
       "stream": "stdout",
       "text": [
        " 135 iterations: limit on f Precision\n",
        "[[ 0.]]   [[ 0.]]\n",
        "59\n",
        "SCG stopped after"
       ]
      },
      {
       "output_type": "stream",
       "stream": "stdout",
       "text": [
        " 118 iterations: limit on f Precision\n",
        "[[ 0.]]   [[ 1.]]\n",
        "60\n",
        "SCG stopped after"
       ]
      },
      {
       "output_type": "stream",
       "stream": "stdout",
       "text": [
        " 67 iterations: limit on f Precision\n",
        "[[ 0.]]   [[ 0.]]\n",
        "61\n",
        "SCG stopped after"
       ]
      },
      {
       "output_type": "stream",
       "stream": "stdout",
       "text": [
        " 118 iterations: limit on f Precision\n",
        "[[ 0.]]   [[ 0.]]\n",
        "62\n",
        "SCG stopped after"
       ]
      },
      {
       "output_type": "stream",
       "stream": "stdout",
       "text": [
        " 76 iterations: limit on f Precision\n",
        "[[ 0.]]   [[ 1.]]\n",
        "63\n",
        "SCG stopped after"
       ]
      },
      {
       "output_type": "stream",
       "stream": "stdout",
       "text": [
        " 103 iterations: limit on f Precision\n",
        "[[ 0.]]   [[ 0.]]\n",
        "64\n",
        "SCG stopped after"
       ]
      },
      {
       "output_type": "stream",
       "stream": "stdout",
       "text": [
        " 146 iterations: limit on f Precision\n",
        "[[ 0.]]   [[ 0.]]\n",
        "65\n",
        "SCG stopped after"
       ]
      },
      {
       "output_type": "stream",
       "stream": "stdout",
       "text": [
        " 197 iterations: limit on f Precision\n",
        "[[ 0.]]   [[ 0.]]\n",
        "66\n",
        "SCG stopped after"
       ]
      },
      {
       "output_type": "stream",
       "stream": "stdout",
       "text": [
        " 107 iterations: limit on f Precision\n",
        "[[ 0.]]   [[ 1.]]\n",
        "67\n",
        "SCG stopped after"
       ]
      },
      {
       "output_type": "stream",
       "stream": "stdout",
       "text": [
        " 120 iterations: limit on f Precision\n",
        "[[ 0.]]   [[ 0.]]\n",
        "68\n",
        "SCG stopped after"
       ]
      },
      {
       "output_type": "stream",
       "stream": "stdout",
       "text": [
        " 170 iterations: limit on f Precision\n",
        "[[ 0.]]   [[ 0.]]\n",
        "69\n",
        "SCG stopped after"
       ]
      },
      {
       "output_type": "stream",
       "stream": "stdout",
       "text": [
        " 82 iterations: limit on f Precision\n",
        "[[ 0.]]   [[ 1.]]\n",
        "70\n",
        "SCG stopped after"
       ]
      },
      {
       "output_type": "stream",
       "stream": "stdout",
       "text": [
        " 167 iterations: limit on f Precision\n",
        "[[ 0.]]   [[ 0.]]\n",
        "71\n",
        "SCG stopped after"
       ]
      },
      {
       "output_type": "stream",
       "stream": "stdout",
       "text": [
        " 221 iterations: limit on f Precision\n",
        "[[ 0.]]   [[ 0.]]\n",
        "72\n",
        "SCG stopped after"
       ]
      },
      {
       "output_type": "stream",
       "stream": "stdout",
       "text": [
        " 150 iterations: limit on f Precision\n",
        "[[ 0.]]   [[ 0.]]\n",
        "73\n",
        "SCG stopped after"
       ]
      },
      {
       "output_type": "stream",
       "stream": "stdout",
       "text": [
        " 229 iterations: limit on f Precision\n",
        "[[ 0.]]   [[ 1.]]\n",
        "74\n",
        "SCG stopped after"
       ]
      },
      {
       "output_type": "stream",
       "stream": "stdout",
       "text": [
        " 67 iterations: limit on f Precision\n",
        "[[ 0.]]   [[ 0.]]\n",
        "75\n",
        "SCG stopped after"
       ]
      },
      {
       "output_type": "stream",
       "stream": "stdout",
       "text": [
        " 64 iterations: limit on f Precision\n",
        "[[ 0.]]   [[ 0.]]\n",
        "76\n",
        "SCG stopped after"
       ]
      },
      {
       "output_type": "stream",
       "stream": "stdout",
       "text": [
        " 105 iterations: limit on f Precision\n",
        "[[ 0.]]   [[ 0.]]\n",
        "77\n",
        "SCG stopped after"
       ]
      },
      {
       "output_type": "stream",
       "stream": "stdout",
       "text": [
        " 105 iterations: limit on f Precision\n",
        "[[ 0.]]   [[ 0.]]\n",
        "78\n",
        "SCG stopped after"
       ]
      },
      {
       "output_type": "stream",
       "stream": "stdout",
       "text": [
        " 56 iterations: limit on f Precision\n",
        "[[ 0.]]   [[ 0.]]\n",
        "79\n",
        "SCG stopped after"
       ]
      },
      {
       "output_type": "stream",
       "stream": "stdout",
       "text": [
        " 80 iterations: limit on f Precision\n",
        "[[ 0.]]   [[ 1.]]\n",
        "\t Confusion matrix\n",
        "\t    predicted labels\n",
        "\t \t 0 \t 1\n",
        "true lables 0    35 \t  25\n",
        "\t    1    3 \t  17\n",
        "0\n",
        "SCG stopped after"
       ]
      },
      {
       "output_type": "stream",
       "stream": "stdout",
       "text": [
        " 88 iterations: limit on f Precision\n",
        "[[ 1.]]   [[ 0.]]\n",
        "1\n",
        "SCG stopped after"
       ]
      },
      {
       "output_type": "stream",
       "stream": "stdout",
       "text": [
        " 110 iterations: limit on f Precision\n",
        "[[ 1.]]   [[ 1.]]\n",
        "2\n",
        "SCG stopped after"
       ]
      },
      {
       "output_type": "stream",
       "stream": "stdout",
       "text": [
        " 72 iterations: limit on f Precision\n",
        "[[ 1.]]   [[ 0.]]\n",
        "3\n",
        "SCG stopped after"
       ]
      },
      {
       "output_type": "stream",
       "stream": "stdout",
       "text": [
        " 112 iterations: limit on f Precision\n",
        "[[ 1.]]   [[ 1.]]\n",
        "4\n",
        "SCG stopped after"
       ]
      },
      {
       "output_type": "stream",
       "stream": "stdout",
       "text": [
        " 291 iterations: limit on f Precision\n",
        "[[ 1.]]   [[ 1.]]\n",
        "5\n",
        "SCG stopped after"
       ]
      },
      {
       "output_type": "stream",
       "stream": "stdout",
       "text": [
        " 186 iterations: limit on f Precision\n",
        "[[ 1.]]   [[ 1.]]\n",
        "6\n",
        "SCG stopped after"
       ]
      },
      {
       "output_type": "stream",
       "stream": "stdout",
       "text": [
        " 272 iterations: limit on f Precision\n",
        "[[ 1.]]   [[ 1.]]\n",
        "7\n",
        "SCG stopped after"
       ]
      },
      {
       "output_type": "stream",
       "stream": "stdout",
       "text": [
        " 115 iterations: limit on f Precision\n",
        "[[ 1.]]   [[ 1.]]\n",
        "8\n",
        "SCG stopped after"
       ]
      },
      {
       "output_type": "stream",
       "stream": "stdout",
       "text": [
        " 124 iterations: limit on f Precision\n",
        "[[ 1.]]   [[ 1.]]\n",
        "9\n",
        "SCG stopped after"
       ]
      },
      {
       "output_type": "stream",
       "stream": "stdout",
       "text": [
        " 148 iterations: limit on f Precision\n",
        "[[ 1.]]   [[ 0.]]\n",
        "10\n",
        "SCG stopped after"
       ]
      },
      {
       "output_type": "stream",
       "stream": "stdout",
       "text": [
        " 204 iterations: limit on f Precision\n",
        "[[ 1.]]   [[ 1.]]\n",
        "11\n",
        "SCG stopped after"
       ]
      },
      {
       "output_type": "stream",
       "stream": "stdout",
       "text": [
        " 99 iterations: limit on f Precision\n",
        "[[ 1.]]   [[ 1.]]\n",
        "12\n",
        "SCG stopped after"
       ]
      },
      {
       "output_type": "stream",
       "stream": "stdout",
       "text": [
        " 97 iterations: limit on f Precision\n",
        "[[ 1.]]   [[ 0.]]\n",
        "13\n",
        "SCG stopped after"
       ]
      },
      {
       "output_type": "stream",
       "stream": "stdout",
       "text": [
        " 206 iterations: limit on f Precision\n",
        "[[ 1.]]   [[ 1.]]\n",
        "14\n",
        "SCG stopped after"
       ]
      },
      {
       "output_type": "stream",
       "stream": "stdout",
       "text": [
        " 130 iterations: limit on f Precision\n",
        "[[ 1.]]   [[ 1.]]\n",
        "15\n",
        "SCG stopped after"
       ]
      },
      {
       "output_type": "stream",
       "stream": "stdout",
       "text": [
        " 144 iterations: limit on f Precision\n",
        "[[ 1.]]   [[ 1.]]\n",
        "16\n",
        "SCG stopped after"
       ]
      },
      {
       "output_type": "stream",
       "stream": "stdout",
       "text": [
        " 137 iterations: limit on f Precision\n",
        "[[ 1.]]   [[ 1.]]\n",
        "17\n",
        "SCG stopped after"
       ]
      },
      {
       "output_type": "stream",
       "stream": "stdout",
       "text": [
        " 187 iterations: limit on f Precision\n",
        "[[ 1.]]   [[ 1.]]\n",
        "18\n",
        "SCG stopped after"
       ]
      },
      {
       "output_type": "stream",
       "stream": "stdout",
       "text": [
        " 68 iterations: limit on f Precision\n",
        "[[ 1.]]   [[ 0.]]\n",
        "19\n",
        "SCG stopped after"
       ]
      },
      {
       "output_type": "stream",
       "stream": "stdout",
       "text": [
        " 121 iterations: limit on f Precision\n",
        "[[ 1.]]   [[ 1.]]\n",
        "20\n",
        "SCG stopped after"
       ]
      },
      {
       "output_type": "stream",
       "stream": "stdout",
       "text": [
        " 376 iterations: limit on f Precision\n",
        "[[ 0.]]   [[ 1.]]\n",
        "21\n",
        "SCG stopped after"
       ]
      },
      {
       "output_type": "stream",
       "stream": "stdout",
       "text": [
        " 222 iterations: limit on f Precision\n",
        "[[ 0.]]   [[ 1.]]\n",
        "22\n",
        "SCG stopped after"
       ]
      },
      {
       "output_type": "stream",
       "stream": "stdout",
       "text": [
        " 370 iterations: limit on f Precision\n",
        "[[ 0.]]   [[ 0.]]\n",
        "23\n",
        "SCG stopped after"
       ]
      },
      {
       "output_type": "stream",
       "stream": "stdout",
       "text": [
        " 67 iterations: limit on f Precision\n",
        "[[ 0.]]   [[ 0.]]\n",
        "24\n",
        "SCG stopped after"
       ]
      },
      {
       "output_type": "stream",
       "stream": "stdout",
       "text": [
        " 72 iterations: limit on f Precision\n",
        "[[ 0.]]   [[ 0.]]\n",
        "25\n",
        "SCG stopped after"
       ]
      },
      {
       "output_type": "stream",
       "stream": "stdout",
       "text": [
        " 78 iterations: limit on f Precision\n",
        "[[ 0.]]   [[ 0.]]\n",
        "26\n",
        "SCG stopped after"
       ]
      },
      {
       "output_type": "stream",
       "stream": "stdout",
       "text": [
        " 92 iterations: limit on f Precision\n",
        "[[ 0.]]   [[ 0.]]\n",
        "27\n",
        "SCG stopped after"
       ]
      },
      {
       "output_type": "stream",
       "stream": "stdout",
       "text": [
        " 211 iterations: limit on f Precision\n",
        "[[ 0.]]   [[ 0.]]\n",
        "28\n",
        "SCG stopped after"
       ]
      },
      {
       "output_type": "stream",
       "stream": "stdout",
       "text": [
        " 274 iterations: limit on f Precision\n",
        "[[ 0.]]   [[ 0.]]\n",
        "29\n",
        "SCG stopped after"
       ]
      },
      {
       "output_type": "stream",
       "stream": "stdout",
       "text": [
        " 98 iterations: limit on f Precision\n",
        "[[ 0.]]   [[ 0.]]\n",
        "30\n",
        "SCG stopped after"
       ]
      },
      {
       "output_type": "stream",
       "stream": "stdout",
       "text": [
        " 207 iterations: limit on f Precision\n",
        "[[ 0.]]   [[ 0.]]\n",
        "31\n",
        "SCG stopped after"
       ]
      },
      {
       "output_type": "stream",
       "stream": "stdout",
       "text": [
        " 147 iterations: limit on f Precision\n",
        "[[ 0.]]   [[ 0.]]\n",
        "32\n",
        "SCG stopped after"
       ]
      },
      {
       "output_type": "stream",
       "stream": "stdout",
       "text": [
        " 181 iterations: limit on f Precision\n",
        "[[ 0.]]   [[ 0.]]\n",
        "33\n",
        "SCG stopped after"
       ]
      },
      {
       "output_type": "stream",
       "stream": "stdout",
       "text": [
        " 168 iterations: limit on f Precision\n",
        "[[ 0.]]   [[ 0.]]\n",
        "34\n",
        "SCG stopped after"
       ]
      },
      {
       "output_type": "stream",
       "stream": "stdout",
       "text": [
        " 94 iterations: limit on f Precision\n",
        "[[ 0.]]   [[ 0.]]\n",
        "35\n",
        "SCG stopped after"
       ]
      },
      {
       "output_type": "stream",
       "stream": "stdout",
       "text": [
        " 174 iterations: limit on f Precision\n",
        "[[ 0.]]   [[ 0.]]\n",
        "36\n",
        "SCG stopped after"
       ]
      },
      {
       "output_type": "stream",
       "stream": "stdout",
       "text": [
        " 401 iterations: did not converge\n",
        "[[ 0.]]   [[ 1.]]\n",
        "37\n",
        "SCG stopped after"
       ]
      },
      {
       "output_type": "stream",
       "stream": "stdout",
       "text": [
        " 230 iterations: limit on f Precision\n",
        "[[ 0.]]   [[ 0.]]\n",
        "38\n",
        "SCG stopped after"
       ]
      },
      {
       "output_type": "stream",
       "stream": "stdout",
       "text": [
        " 46 iterations: limit on f Precision\n",
        "[[ 0.]]   [[ 1.]]\n",
        "39\n",
        "SCG stopped after"
       ]
      },
      {
       "output_type": "stream",
       "stream": "stdout",
       "text": [
        " 70 iterations: limit on f Precision\n",
        "[[ 0.]]   [[ 0.]]\n",
        "40\n",
        "SCG stopped after"
       ]
      },
      {
       "output_type": "stream",
       "stream": "stdout",
       "text": [
        " 283 iterations: limit on f Precision\n",
        "[[ 0.]]   [[ 0.]]\n",
        "41\n",
        "SCG stopped after"
       ]
      },
      {
       "output_type": "stream",
       "stream": "stdout",
       "text": [
        " 118 iterations: limit on f Precision\n",
        "[[ 0.]]   [[ 1.]]\n",
        "42\n",
        "SCG stopped after"
       ]
      },
      {
       "output_type": "stream",
       "stream": "stdout",
       "text": [
        " 87 iterations: limit on f Precision\n",
        "[[ 0.]]   [[ 0.]]\n",
        "43\n",
        "SCG stopped after"
       ]
      },
      {
       "output_type": "stream",
       "stream": "stdout",
       "text": [
        " 176 iterations: limit on f Precision\n",
        "[[ 0.]]   [[ 0.]]\n",
        "44\n",
        "SCG stopped after"
       ]
      },
      {
       "output_type": "stream",
       "stream": "stdout",
       "text": [
        " 139 iterations: limit on f Precision\n",
        "[[ 0.]]   [[ 0.]]\n",
        "45\n",
        "SCG stopped after"
       ]
      },
      {
       "output_type": "stream",
       "stream": "stdout",
       "text": [
        " 235 iterations: limit on f Precision\n",
        "[[ 0.]]   [[ 0.]]\n",
        "46\n",
        "SCG stopped after"
       ]
      },
      {
       "output_type": "stream",
       "stream": "stdout",
       "text": [
        " 270 iterations: limit on f Precision\n",
        "[[ 0.]]   [[ 0.]]\n",
        "47\n",
        "SCG stopped after"
       ]
      },
      {
       "output_type": "stream",
       "stream": "stdout",
       "text": [
        " 200 iterations: limit on f Precision\n",
        "[[ 0.]]   [[ 0.]]\n",
        "48\n",
        "SCG stopped after"
       ]
      },
      {
       "output_type": "stream",
       "stream": "stdout",
       "text": [
        " 123 iterations: limit on f Precision\n",
        "[[ 0.]]   [[ 1.]]\n",
        "49\n",
        "SCG stopped after"
       ]
      },
      {
       "output_type": "stream",
       "stream": "stdout",
       "text": [
        " 78 iterations: limit on f Precision\n",
        "[[ 0.]]   [[ 0.]]\n",
        "50\n",
        "SCG stopped after"
       ]
      },
      {
       "output_type": "stream",
       "stream": "stdout",
       "text": [
        " 228 iterations: limit on f Precision\n",
        "[[ 0.]]   [[ 0.]]\n",
        "51\n",
        "SCG stopped after"
       ]
      },
      {
       "output_type": "stream",
       "stream": "stdout",
       "text": [
        " 118 iterations: limit on f Precision\n",
        "[[ 0.]]   [[ 0.]]\n",
        "52\n",
        "SCG stopped after"
       ]
      },
      {
       "output_type": "stream",
       "stream": "stdout",
       "text": [
        " 277 iterations: limit on f Precision\n",
        "[[ 0.]]   [[ 0.]]\n",
        "53\n",
        "SCG stopped after"
       ]
      },
      {
       "output_type": "stream",
       "stream": "stdout",
       "text": [
        " 228 iterations: limit on f Precision\n",
        "[[ 0.]]   [[ 1.]]\n",
        "54\n",
        "SCG stopped after"
       ]
      },
      {
       "output_type": "stream",
       "stream": "stdout",
       "text": [
        " 186 iterations: limit on f Precision\n",
        "[[ 0.]]   [[ 0.]]\n",
        "55\n",
        "SCG stopped after"
       ]
      },
      {
       "output_type": "stream",
       "stream": "stdout",
       "text": [
        " 199 iterations: limit on f Precision\n",
        "[[ 0.]]   [[ 0.]]\n",
        "56\n",
        "SCG stopped after"
       ]
      },
      {
       "output_type": "stream",
       "stream": "stdout",
       "text": [
        " 97 iterations: limit on f Precision\n",
        "[[ 0.]]   [[ 1.]]\n",
        "57\n",
        "SCG stopped after"
       ]
      },
      {
       "output_type": "stream",
       "stream": "stdout",
       "text": [
        " 88 iterations: limit on f Precision\n",
        "[[ 0.]]   [[ 0.]]\n",
        "58\n",
        "SCG stopped after"
       ]
      },
      {
       "output_type": "stream",
       "stream": "stdout",
       "text": [
        " 93 iterations: limit on f Precision\n",
        "[[ 0.]]   [[ 0.]]\n",
        "59\n",
        "SCG stopped after"
       ]
      },
      {
       "output_type": "stream",
       "stream": "stdout",
       "text": [
        " 212 iterations: limit on f Precision\n",
        "[[ 0.]]   [[ 0.]]\n",
        "60\n",
        "SCG stopped after"
       ]
      },
      {
       "output_type": "stream",
       "stream": "stdout",
       "text": [
        " 157 iterations: limit on f Precision\n",
        "[[ 0.]]   [[ 0.]]\n",
        "61\n",
        "SCG stopped after"
       ]
      },
      {
       "output_type": "stream",
       "stream": "stdout",
       "text": [
        " 139 iterations: limit on f Precision\n",
        "[[ 0.]]   [[ 1.]]"
       ]
      },
      {
       "output_type": "stream",
       "stream": "stdout",
       "text": [
        "\n",
        "62\n",
        "SCG stopped after"
       ]
      },
      {
       "output_type": "stream",
       "stream": "stdout",
       "text": [
        " 338 iterations: limit on f Precision\n",
        "[[ 0.]]   [[ 0.]]\n",
        "63\n",
        "SCG stopped after"
       ]
      },
      {
       "output_type": "stream",
       "stream": "stdout",
       "text": [
        " 151 iterations: limit on f Precision\n",
        "[[ 0.]]   [[ 0.]]\n",
        "64\n",
        "SCG stopped after"
       ]
      },
      {
       "output_type": "stream",
       "stream": "stdout",
       "text": [
        " 107 iterations: limit on f Precision\n",
        "[[ 0.]]   [[ 0.]]\n",
        "65\n",
        "SCG stopped after"
       ]
      },
      {
       "output_type": "stream",
       "stream": "stdout",
       "text": [
        " 190 iterations: limit on f Precision\n",
        "[[ 0.]]   [[ 0.]]\n",
        "66\n",
        "SCG stopped after"
       ]
      },
      {
       "output_type": "stream",
       "stream": "stdout",
       "text": [
        " 131 iterations: limit on f Precision\n",
        "[[ 0.]]   [[ 0.]]\n",
        "67\n",
        "SCG stopped after"
       ]
      },
      {
       "output_type": "stream",
       "stream": "stdout",
       "text": [
        " 137 iterations: limit on f Precision\n",
        "[[ 0.]]   [[ 0.]]\n",
        "68\n",
        "SCG stopped after"
       ]
      },
      {
       "output_type": "stream",
       "stream": "stdout",
       "text": [
        " 98 iterations: limit on f Precision\n",
        "[[ 0.]]   [[ 0.]]\n",
        "69\n",
        "SCG stopped after"
       ]
      },
      {
       "output_type": "stream",
       "stream": "stdout",
       "text": [
        " 71 iterations: limit on f Precision\n",
        "[[ 0.]]   [[ 1.]]\n",
        "70\n",
        "SCG stopped after"
       ]
      },
      {
       "output_type": "stream",
       "stream": "stdout",
       "text": [
        " 142 iterations: limit on f Precision\n",
        "[[ 0.]]   [[ 0.]]\n",
        "71\n",
        "SCG stopped after"
       ]
      },
      {
       "output_type": "stream",
       "stream": "stdout",
       "text": [
        " 185 iterations: limit on f Precision\n",
        "[[ 0.]]   [[ 0.]]\n",
        "72\n",
        "SCG stopped after"
       ]
      },
      {
       "output_type": "stream",
       "stream": "stdout",
       "text": [
        " 102 iterations: limit on f Precision\n",
        "[[ 0.]]   [[ 0.]]\n",
        "73\n",
        "SCG stopped after"
       ]
      },
      {
       "output_type": "stream",
       "stream": "stdout",
       "text": [
        " 207 iterations: limit on f Precision\n",
        "[[ 0.]]   [[ 0.]]\n",
        "74\n",
        "SCG stopped after"
       ]
      },
      {
       "output_type": "stream",
       "stream": "stdout",
       "text": [
        " 145 iterations: limit on f Precision\n",
        "[[ 0.]]   [[ 0.]]\n",
        "75\n",
        "SCG stopped after"
       ]
      },
      {
       "output_type": "stream",
       "stream": "stdout",
       "text": [
        " 171 iterations: limit on f Precision\n",
        "[[ 0.]]   [[ 0.]]\n",
        "76\n",
        "SCG stopped after"
       ]
      },
      {
       "output_type": "stream",
       "stream": "stdout",
       "text": [
        " 75 iterations: limit on f Precision\n",
        "[[ 0.]]   [[ 0.]]\n",
        "77\n",
        "SCG stopped after"
       ]
      },
      {
       "output_type": "stream",
       "stream": "stdout",
       "text": [
        " 187 iterations: limit on f Precision\n",
        "[[ 0.]]   [[ 0.]]\n",
        "78\n",
        "SCG stopped after"
       ]
      },
      {
       "output_type": "stream",
       "stream": "stdout",
       "text": [
        " 256 iterations: limit on f Precision\n",
        "[[ 0.]]   [[ 0.]]\n",
        "79\n",
        "SCG stopped after"
       ]
      },
      {
       "output_type": "stream",
       "stream": "stdout",
       "text": [
        " 112 iterations: limit on f Precision\n",
        "[[ 0.]]   [[ 0.]]\n",
        "\t Confusion matrix\n",
        "\t    predicted labels\n",
        "\t \t 0 \t 1\n",
        "true lables 0    50 \t  10\n",
        "\t    1    5 \t  15\n",
        "0\n",
        "SCG stopped after"
       ]
      },
      {
       "output_type": "stream",
       "stream": "stdout",
       "text": [
        " 128 iterations: limit on f Precision\n",
        "[[ 1.]]   [[ 0.]]\n",
        "1\n",
        "SCG stopped after"
       ]
      },
      {
       "output_type": "stream",
       "stream": "stdout",
       "text": [
        " 185 iterations: limit on f Precision\n",
        "[[ 1.]]   [[ 1.]]\n",
        "2\n",
        "SCG stopped after"
       ]
      },
      {
       "output_type": "stream",
       "stream": "stdout",
       "text": [
        " 92 iterations: limit on f Precision\n",
        "[[ 1.]]   [[ 0.]]\n",
        "3\n",
        "SCG stopped after"
       ]
      },
      {
       "output_type": "stream",
       "stream": "stdout",
       "text": [
        " 85 iterations: limit on f Precision\n",
        "[[ 1.]]   [[ 1.]]\n",
        "4\n",
        "SCG stopped after"
       ]
      },
      {
       "output_type": "stream",
       "stream": "stdout",
       "text": [
        " 306 iterations: limit on f Precision\n",
        "[[ 1.]]   [[ 1.]]\n",
        "5\n",
        "SCG stopped after"
       ]
      },
      {
       "output_type": "stream",
       "stream": "stdout",
       "text": [
        " 199 iterations: limit on f Precision\n",
        "[[ 1.]]   [[ 0.]]\n",
        "6\n",
        "SCG stopped after"
       ]
      },
      {
       "output_type": "stream",
       "stream": "stdout",
       "text": [
        " 82 iterations: limit on f Precision\n",
        "[[ 1.]]   [[ 1.]]\n",
        "7\n",
        "SCG stopped after"
       ]
      },
      {
       "output_type": "stream",
       "stream": "stdout",
       "text": [
        " 217 iterations: limit on f Precision\n",
        "[[ 1.]]   [[ 0.]]\n",
        "8\n",
        "SCG stopped after"
       ]
      },
      {
       "output_type": "stream",
       "stream": "stdout",
       "text": [
        " 131 iterations: limit on f Precision\n",
        "[[ 1.]]   [[ 1.]]\n",
        "9\n",
        "SCG stopped after"
       ]
      },
      {
       "output_type": "stream",
       "stream": "stdout",
       "text": [
        " 220 iterations: limit on f Precision\n",
        "[[ 1.]]   [[ 0.]]\n",
        "10\n",
        "SCG stopped after"
       ]
      },
      {
       "output_type": "stream",
       "stream": "stdout",
       "text": [
        " 171 iterations: limit on f Precision\n",
        "[[ 1.]]   [[ 0.]]\n",
        "11\n",
        "SCG stopped after"
       ]
      },
      {
       "output_type": "stream",
       "stream": "stdout",
       "text": [
        " 149 iterations: limit on f Precision\n",
        "[[ 1.]]   [[ 1.]]\n",
        "12\n",
        "SCG stopped after"
       ]
      },
      {
       "output_type": "stream",
       "stream": "stdout",
       "text": [
        " 81 iterations: limit on f Precision\n",
        "[[ 1.]]   [[ 0.]]\n",
        "13\n",
        "SCG stopped after"
       ]
      },
      {
       "output_type": "stream",
       "stream": "stdout",
       "text": [
        " 161 iterations: limit on f Precision\n",
        "[[ 1.]]   [[ 1.]]\n",
        "14\n",
        "SCG stopped after"
       ]
      },
      {
       "output_type": "stream",
       "stream": "stdout",
       "text": [
        " 187 iterations: limit on f Precision\n",
        "[[ 1.]]   [[ 1.]]\n",
        "15\n",
        "SCG stopped after"
       ]
      },
      {
       "output_type": "stream",
       "stream": "stdout",
       "text": [
        " 305 iterations: limit on f Precision\n",
        "[[ 1.]]   [[ 1.]]\n",
        "16\n",
        "SCG stopped after"
       ]
      },
      {
       "output_type": "stream",
       "stream": "stdout",
       "text": [
        " 189 iterations: limit on f Precision\n",
        "[[ 1.]]   [[ 1.]]\n",
        "17\n",
        "SCG stopped after"
       ]
      },
      {
       "output_type": "stream",
       "stream": "stdout",
       "text": [
        " 183 iterations: limit on f Precision\n",
        "[[ 1.]]   [[ 1.]]\n",
        "18\n",
        "SCG stopped after"
       ]
      },
      {
       "output_type": "stream",
       "stream": "stdout",
       "text": [
        " 111 iterations: limit on f Precision\n",
        "[[ 1.]]   [[ 1.]]\n",
        "19\n",
        "SCG stopped after"
       ]
      },
      {
       "output_type": "stream",
       "stream": "stdout",
       "text": [
        " 302 iterations: limit on f Precision\n",
        "[[ 1.]]   [[ 1.]]\n",
        "20\n",
        "SCG stopped after"
       ]
      },
      {
       "output_type": "stream",
       "stream": "stdout",
       "text": [
        " 63 iterations: limit on f Precision\n",
        "[[ 0.]]   [[ 1.]]\n",
        "21\n",
        "SCG stopped after"
       ]
      },
      {
       "output_type": "stream",
       "stream": "stdout",
       "text": [
        " 185 iterations: limit on f Precision\n",
        "[[ 0.]]   [[ 1.]]\n",
        "22\n",
        "SCG stopped after"
       ]
      },
      {
       "output_type": "stream",
       "stream": "stdout",
       "text": [
        " 217 iterations: limit on f Precision\n",
        "[[ 0.]]   [[ 0.]]\n",
        "23\n",
        "SCG stopped after"
       ]
      },
      {
       "output_type": "stream",
       "stream": "stdout",
       "text": [
        " 154 iterations: limit on f Precision\n",
        "[[ 0.]]   [[ 0.]]\n",
        "24\n",
        "SCG stopped after"
       ]
      },
      {
       "output_type": "stream",
       "stream": "stdout",
       "text": [
        " 277 iterations: limit on f Precision\n",
        "[[ 0.]]   [[ 0.]]\n",
        "25\n",
        "SCG stopped after"
       ]
      },
      {
       "output_type": "stream",
       "stream": "stdout",
       "text": [
        " 132 iterations: limit on f Precision\n",
        "[[ 0.]]   [[ 0.]]\n",
        "26\n",
        "SCG stopped after"
       ]
      },
      {
       "output_type": "stream",
       "stream": "stdout",
       "text": [
        " 277 iterations: limit on f Precision\n",
        "[[ 0.]]   [[ 0.]]\n",
        "27\n",
        "SCG stopped after"
       ]
      },
      {
       "output_type": "stream",
       "stream": "stdout",
       "text": [
        " 97 iterations: limit on f Precision\n",
        "[[ 0.]]   [[ 0.]]\n",
        "28\n",
        "SCG stopped after"
       ]
      },
      {
       "output_type": "stream",
       "stream": "stdout",
       "text": [
        " 287 iterations: limit on f Precision\n",
        "[[ 0.]]   [[ 0.]]\n",
        "29\n",
        "SCG stopped after"
       ]
      },
      {
       "output_type": "stream",
       "stream": "stdout",
       "text": [
        " 175 iterations: limit on f Precision\n",
        "[[ 0.]]   [[ 1.]]\n",
        "30\n",
        "SCG stopped after"
       ]
      },
      {
       "output_type": "stream",
       "stream": "stdout",
       "text": [
        " 188 iterations: limit on f Precision\n",
        "[[ 0.]]   [[ 0.]]\n",
        "31\n",
        "SCG stopped after"
       ]
      },
      {
       "output_type": "stream",
       "stream": "stdout",
       "text": [
        " 300 iterations: limit on f Precision\n",
        "[[ 0.]]   [[ 0.]]\n",
        "32\n",
        "SCG stopped after"
       ]
      },
      {
       "output_type": "stream",
       "stream": "stdout",
       "text": [
        " 254 iterations: limit on f Precision\n",
        "[[ 0.]]   [[ 0.]]\n",
        "33\n",
        "SCG stopped after"
       ]
      },
      {
       "output_type": "stream",
       "stream": "stdout",
       "text": [
        " 177 iterations: limit on f Precision\n",
        "[[ 0.]]   [[ 0.]]\n",
        "34\n",
        "SCG stopped after"
       ]
      },
      {
       "output_type": "stream",
       "stream": "stdout",
       "text": [
        " 361 iterations: limit on f Precision\n",
        "[[ 0.]]   [[ 0.]]\n",
        "35\n",
        "SCG stopped after"
       ]
      },
      {
       "output_type": "stream",
       "stream": "stdout",
       "text": [
        " 84 iterations: limit on f Precision\n",
        "[[ 0.]]   [[ 0.]]\n",
        "36\n",
        "SCG stopped after"
       ]
      },
      {
       "output_type": "stream",
       "stream": "stdout",
       "text": [
        " 401 iterations: did not converge\n",
        "[[ 0.]]   [[ 1.]]\n",
        "37\n",
        "SCG stopped after"
       ]
      },
      {
       "output_type": "stream",
       "stream": "stdout",
       "text": [
        " 141 iterations: limit on f Precision\n",
        "[[ 0.]]   [[ 0.]]\n",
        "38\n",
        "SCG stopped after"
       ]
      },
      {
       "output_type": "stream",
       "stream": "stdout",
       "text": [
        " 68 iterations: limit on f Precision\n",
        "[[ 0.]]   [[ 1.]]\n",
        "39\n",
        "SCG stopped after"
       ]
      },
      {
       "output_type": "stream",
       "stream": "stdout",
       "text": [
        " 212 iterations: limit on f Precision\n",
        "[[ 0.]]   [[ 0.]]\n",
        "40\n",
        "SCG stopped after"
       ]
      },
      {
       "output_type": "stream",
       "stream": "stdout",
       "text": [
        " 120 iterations: limit on f Precision\n",
        "[[ 0.]]   [[ 0.]]\n",
        "41\n",
        "SCG stopped after"
       ]
      },
      {
       "output_type": "stream",
       "stream": "stdout",
       "text": [
        " 156 iterations: limit on f Precision\n",
        "[[ 0.]]   [[ 1.]]\n",
        "42\n",
        "SCG stopped after"
       ]
      },
      {
       "output_type": "stream",
       "stream": "stdout",
       "text": [
        " 115 iterations: limit on f Precision\n",
        "[[ 0.]]   [[ 0.]]\n",
        "43\n",
        "SCG stopped after"
       ]
      },
      {
       "output_type": "stream",
       "stream": "stdout",
       "text": [
        " 175 iterations: limit on f Precision\n",
        "[[ 0.]]   [[ 0.]]\n",
        "44\n",
        "SCG stopped after"
       ]
      },
      {
       "output_type": "stream",
       "stream": "stdout",
       "text": [
        " 309 iterations: limit on f Precision\n",
        "[[ 0.]]   [[ 0.]]\n",
        "45\n",
        "SCG stopped after"
       ]
      },
      {
       "output_type": "stream",
       "stream": "stdout",
       "text": [
        " 296 iterations: limit on f Precision\n",
        "[[ 0.]]   [[ 1.]]\n",
        "46\n",
        "SCG stopped after"
       ]
      },
      {
       "output_type": "stream",
       "stream": "stdout",
       "text": [
        " 97 iterations: limit on f Precision\n",
        "[[ 0.]]   [[ 0.]]\n",
        "47\n",
        "SCG stopped after"
       ]
      },
      {
       "output_type": "stream",
       "stream": "stdout",
       "text": [
        " 175 iterations: limit on f Precision\n",
        "[[ 0.]]   [[ 0.]]\n",
        "48\n",
        "SCG stopped after"
       ]
      }
     ]
    },
    {
     "cell_type": "code",
     "collapsed": false,
     "input": [],
     "language": "python",
     "metadata": {},
     "outputs": []
    }
   ],
   "metadata": {}
  }
 ]
}