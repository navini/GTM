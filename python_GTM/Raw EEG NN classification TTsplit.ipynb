{
 "metadata": {
  "name": "",
  "signature": "sha256:587fc1d1d849d44b18132f76446ca2908a2c3805dad96dfbaa3f1735fbf3ab35"
 },
 "nbformat": 3,
 "nbformat_minor": 0,
 "worksheets": [
  {
   "cells": [
    {
     "cell_type": "code",
     "collapsed": false,
     "input": [
      "%matplotlib inline\n",
      "from matplotlib import pyplot as plt\n",
      "import numpy as np\n",
      "import neuralnetworks as nn\n",
      "from __future__ import division\n",
      "\n",
      "def normalize(signal):\n",
      "    means = np.mean(signal, axis=1).reshape((signal.shape[0],1))\n",
      "    std = np.std(signal, axis=1).reshape((signal.shape[0],1))\n",
      "    signal = np.divide(np.subtract(signal,means),std)\n",
      "    return signal\n",
      "\n",
      "data=np.loadtxt('classData4smoothed.txt')\n",
      "\n",
      "BSR = 0\n",
      "for i in range(10):\n",
      "    data_features = data[:,1:211]\n",
      "    data_classes = data[:,0:1]\n",
      "    trainf = 0.8\n",
      "    nontarget,_ = np.where(data_classes == 0)\n",
      "    target,_ = np.where(data_classes == 1)\n",
      "    nontarget = np.random.permutation(nontarget)\n",
      "    target = np.random.permutation(target)\n",
      "\n",
      "    n = round(trainf*len(nontarget))\n",
      "    rows = nontarget[:n]\n",
      "    data_featurestrain = data_features[rows,:]\n",
      "    data_classestrain = data_classes[rows,:]\n",
      "    rows = nontarget[n:]\n",
      "    data_featurestest =  data_features[rows,:]\n",
      "    data_classestest =  data_classes[rows,:]\n",
      "    n = round(trainf*len(target))\n",
      "    rows = target[:n]\n",
      "    data_featurestrain = np.vstack((data_featurestrain, data_features[rows,:]))\n",
      "    data_classestrain = np.vstack((data_classestrain, data_classes[rows,:]))\n",
      "    rows = target[n:]\n",
      "    data_featurestest = np.vstack((data_featurestest, data_features[rows,:]))\n",
      "    data_classestest = np.vstack((data_classestest, data_classes[rows,:]))\n",
      "\n",
      "    data_dim = 210\n",
      "    data_samples = data_featurestrain.shape[0]\n",
      "\n",
      "    data_features = normalize(data_featurestrain)\n",
      "    test_data = normalize(data_featurestest)\n",
      "    data_classes = data_classestrain\n",
      "    test_classes = data_classestest\n",
      "\n",
      "    nnet = nn.NeuralNetClassifier(210,1,2) # 2 inputs, 8 hiddens, 3 outputs\n",
      "    nnet.train(data_features,data_classes,weightPrecision=1.e-8,errorPrecision=1.e-8,nIterations=400)\n",
      "    print \"SCG stopped after\",nnet.getNumberOfIterations(),\"iterations:\",nnet.reason\n",
      "    (classes,Y,Z) = nnet.use(data_features, allOutputs=True)\n",
      "    #fig2=plt.figure()\n",
      "    #nnet.draw()\n",
      "    #fig2.show()\n",
      "\n",
      "    marker = ['r.','bx']\n",
      "\n",
      "    predTest,probs,Z = nnet.use(test_data,allOutputs=True) \n",
      "\n",
      "\n",
      "    ###########Print Confusion Matrix\n",
      "    TP=0\n",
      "    TN=0\n",
      "    FP=0\n",
      "    FN=0\n",
      "\n",
      "    for i in range(predTest.size):\n",
      "        if(predTest[i,:]==test_classes[i,:]):\n",
      "            if(predTest[i,:]==0):\n",
      "                TN=TN+1\n",
      "            else:\n",
      "                TP=TP+1\n",
      "        else:\n",
      "            if(predTest[i,:]==0):\n",
      "                FN=FN+1\n",
      "            else:\n",
      "                FP=FP+1\n",
      "\n",
      "    print '\\t Confusion matrix'\n",
      "\n",
      "    print '\\t    predicted labels'\n",
      "    print '\\t \\t 0 \\t 1'\n",
      "\n",
      "    print 'true lables 0   ',TN,'\\t ',FP\n",
      "    print '\\t    1   ',FN,'\\t ',TP\n",
      "    BSR = BSR+((TP/(TP+FN) + TN/(TN+FP))/2)\n",
      "\n",
      "print BSR*10\n"
     ],
     "language": "python",
     "metadata": {},
     "outputs": [
      {
       "output_type": "stream",
       "stream": "stdout",
       "text": [
        "SCG stopped after 132 iterations: limit on f Precision\n",
        "\t Confusion matrix\n",
        "\t    predicted labels\n",
        "\t \t 0 \t 1\n",
        "true lables 0    7 \t  5\n",
        "\t    1    0 \t  4\n",
        "SCG stopped after"
       ]
      },
      {
       "output_type": "stream",
       "stream": "stdout",
       "text": [
        " 135 iterations: limit on f Precision\n",
        "\t Confusion matrix\n",
        "\t    predicted labels\n",
        "\t \t 0 \t 1\n",
        "true lables 0    9 \t  3\n",
        "\t    1    1 \t  3\n",
        "SCG stopped after"
       ]
      },
      {
       "output_type": "stream",
       "stream": "stdout",
       "text": [
        " 173 iterations: limit on f Precision\n",
        "\t Confusion matrix\n",
        "\t    predicted labels\n",
        "\t \t 0 \t 1\n",
        "true lables 0    8 \t  4\n",
        "\t    1    3 \t  1\n",
        "SCG stopped after"
       ]
      },
      {
       "output_type": "stream",
       "stream": "stdout",
       "text": [
        " 61 iterations: limit on f Precision\n",
        "\t Confusion matrix\n",
        "\t    predicted labels\n",
        "\t \t 0 \t 1\n",
        "true lables 0    10 \t  2\n",
        "\t    1    2 \t  2\n",
        "SCG stopped after"
       ]
      },
      {
       "output_type": "stream",
       "stream": "stdout",
       "text": [
        " 107 iterations: limit on f Precision\n",
        "\t Confusion matrix\n",
        "\t    predicted labels\n",
        "\t \t 0 \t 1\n",
        "true lables 0    8 \t  4\n",
        "\t    1    2 \t  2\n",
        "SCG stopped after"
       ]
      },
      {
       "output_type": "stream",
       "stream": "stdout",
       "text": [
        " 61 iterations: limit on f Precision\n",
        "\t Confusion matrix\n",
        "\t    predicted labels\n",
        "\t \t 0 \t 1\n",
        "true lables 0    9 \t  3\n",
        "\t    1    1 \t  3\n",
        "SCG stopped after"
       ]
      },
      {
       "output_type": "stream",
       "stream": "stdout",
       "text": [
        " 47 iterations: limit on f Precision\n",
        "\t Confusion matrix\n",
        "\t    predicted labels\n",
        "\t \t 0 \t 1\n",
        "true lables 0    7 \t  5\n",
        "\t    1    1 \t  3\n",
        "SCG stopped after"
       ]
      },
      {
       "output_type": "stream",
       "stream": "stdout",
       "text": [
        " 124 iterations: limit on f Precision\n",
        "\t Confusion matrix\n",
        "\t    predicted labels\n",
        "\t \t 0 \t 1\n",
        "true lables 0    7 \t  5\n",
        "\t    1    1 \t  3\n",
        "SCG stopped after"
       ]
      },
      {
       "output_type": "stream",
       "stream": "stdout",
       "text": [
        " 66 iterations: limit on f Precision\n",
        "\t Confusion matrix\n",
        "\t    predicted labels\n",
        "\t \t 0 \t 1\n",
        "true lables 0    10 \t  2\n",
        "\t    1    0 \t  4\n",
        "SCG stopped after"
       ]
      },
      {
       "output_type": "stream",
       "stream": "stdout",
       "text": [
        " 72 iterations: limit on f Precision\n",
        "\t Confusion matrix\n",
        "\t    predicted labels\n",
        "\t \t 0 \t 1\n",
        "true lables 0    7 \t  5\n",
        "\t    1    1 \t  3\n",
        "69.1666666667\n"
       ]
      },
      {
       "output_type": "stream",
       "stream": "stderr",
       "text": [
        "neuralnetworks.py:295: RuntimeWarning: overflow encountered in exp\n",
        "  expY = np.exp(Y)\n",
        "neuralnetworks.py:297: RuntimeWarning: invalid value encountered in divide\n",
        "  Y = np.hstack((expY / denom, 1/denom))\n",
        "neuralnetworks.py:298: RuntimeWarning: divide by zero encountered in log\n",
        "  return -np.mean(T * np.log(Y))\n",
        "neuralnetworks.py:298: RuntimeWarning: invalid value encountered in multiply\n",
        "  return -np.mean(T * np.log(Y))\n"
       ]
      }
     ],
     "prompt_number": 1
    },
    {
     "cell_type": "code",
     "collapsed": false,
     "input": [],
     "language": "python",
     "metadata": {},
     "outputs": []
    }
   ],
   "metadata": {}
  }
 ]
}